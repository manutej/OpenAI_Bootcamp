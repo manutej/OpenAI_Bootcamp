{
  "nbformat": 4,
  "nbformat_minor": 0,
  "metadata": {
    "colab": {
      "provenance": []
    },
    "kernelspec": {
      "name": "python3",
      "display_name": "Python 3"
    },
    "language_info": {
      "name": "python"
    }
  },
  "cells": [
    {
      "cell_type": "markdown",
      "source": [
        "## QUERYING DATA\n"
      ],
      "metadata": {
        "id": "mcMLLWlUOWNU"
      }
    },
    {
      "cell_type": "code",
      "source": [
        "!pip install openai"
      ],
      "metadata": {
        "colab": {
          "base_uri": "https://localhost:8080/"
        },
        "id": "VDB0VAL-OSlP",
        "outputId": "0ff972e3-f9ec-4fe0-ad65-8883ff9afc26"
      },
      "execution_count": null,
      "outputs": [
        {
          "output_type": "stream",
          "name": "stdout",
          "text": [
            "Requirement already satisfied: openai in /usr/local/lib/python3.10/dist-packages (1.2.4)\n",
            "Requirement already satisfied: anyio<4,>=3.5.0 in /usr/local/lib/python3.10/dist-packages (from openai) (3.7.1)\n",
            "Requirement already satisfied: distro<2,>=1.7.0 in /usr/lib/python3/dist-packages (from openai) (1.7.0)\n",
            "Requirement already satisfied: httpx<1,>=0.23.0 in /usr/local/lib/python3.10/dist-packages (from openai) (0.25.1)\n",
            "Requirement already satisfied: pydantic<3,>=1.9.0 in /usr/local/lib/python3.10/dist-packages (from openai) (1.10.13)\n",
            "Requirement already satisfied: tqdm>4 in /usr/local/lib/python3.10/dist-packages (from openai) (4.66.1)\n",
            "Requirement already satisfied: typing-extensions<5,>=4.5 in /usr/local/lib/python3.10/dist-packages (from openai) (4.5.0)\n",
            "Requirement already satisfied: idna>=2.8 in /usr/local/lib/python3.10/dist-packages (from anyio<4,>=3.5.0->openai) (3.4)\n",
            "Requirement already satisfied: sniffio>=1.1 in /usr/local/lib/python3.10/dist-packages (from anyio<4,>=3.5.0->openai) (1.3.0)\n",
            "Requirement already satisfied: exceptiongroup in /usr/local/lib/python3.10/dist-packages (from anyio<4,>=3.5.0->openai) (1.1.3)\n",
            "Requirement already satisfied: certifi in /usr/local/lib/python3.10/dist-packages (from httpx<1,>=0.23.0->openai) (2023.7.22)\n",
            "Requirement already satisfied: httpcore in /usr/local/lib/python3.10/dist-packages (from httpx<1,>=0.23.0->openai) (1.0.2)\n",
            "Requirement already satisfied: h11<0.15,>=0.13 in /usr/local/lib/python3.10/dist-packages (from httpcore->httpx<1,>=0.23.0->openai) (0.14.0)\n"
          ]
        }
      ]
    },
    {
      "cell_type": "code",
      "execution_count": null,
      "metadata": {
        "id": "ayi2cUzXOLCs"
      },
      "outputs": [],
      "source": [
        "import openai\n",
        "from openai import OpenAI\n"
      ]
    },
    {
      "cell_type": "code",
      "source": [
        "openai.api_key = \"API_KEY\"\n",
        "client = OpenAI(api_key = \"API_KEY\")"
      ],
      "metadata": {
        "id": "ns-Ao1wlPgXn"
      },
      "execution_count": null,
      "outputs": []
    },
    {
      "cell_type": "code",
      "source": [
        "file = client.files.create(\n",
        "  file=open(\"clinical_trials.csv\", \"rb\"),\n",
        "  purpose='assistants'\n",
        ")"
      ],
      "metadata": {
        "id": "7sriky3Im7Pr"
      },
      "execution_count": null,
      "outputs": []
    },
    {
      "cell_type": "code",
      "source": [
        "assistant = client.beta.assistants.create(\n",
        "      name=\"Data visualizer2\",\n",
        "  instructions=\"You are great at creating beautiful data visualizations. You analyze data present in .csv files, understand trends, and come up with data visualizations relevant to those trends. You also share a brief text summary of the trends observed.\",\n",
        "  model=\"gpt-4-1106-preview\",\n",
        "  tools=[{\"type\": \"code_interpreter\"}],\n",
        "  file_ids=[file.id]\n",
        ")"
      ],
      "metadata": {
        "id": "J1-tbE_Ik6xi"
      },
      "execution_count": null,
      "outputs": []
    },
    {
      "cell_type": "code",
      "source": [
        "thread = client.beta.threads.create(\n",
        "  messages=[\n",
        "    {\n",
        "      \"role\": \"user\",\n",
        "      \"content\": \"Create 3 data insights based on the trends in this file.\",\n",
        "      \"file_ids\": [file.id]\n",
        "    }\n",
        "  ]\n",
        ")"
      ],
      "metadata": {
        "id": "haUsc6kfnbpS"
      },
      "execution_count": null,
      "outputs": []
    },
    {
      "cell_type": "code",
      "source": [
        "run = client.beta.threads.runs.create(\n",
        "    thread_id = thread.id,\n",
        "    assistant_id = assistant.id,\n",
        "    instructions = \"Please address the user as Sir. The user has a premium account.\"\n",
        ")"
      ],
      "metadata": {
        "id": "Ha5wvwXKo1En"
      },
      "execution_count": null,
      "outputs": []
    },
    {
      "cell_type": "code",
      "source": [
        "import os\n",
        "import time\n",
        "import logging\n",
        "from datetime import datetime\n",
        "import openai"
      ],
      "metadata": {
        "id": "P8HK3KrLtIjl"
      },
      "execution_count": null,
      "outputs": []
    },
    {
      "cell_type": "code",
      "source": [
        "def wait_for_run_completion(client, thread_id, run_id, sleep_interval=5):\n",
        "    \"\"\"\n",
        "    Waits for a run to complete and prints the elapsed time.:param client: The OpenAI client object.\n",
        "    :param thread_id: The ID of the thread.\n",
        "    :param run_id: The ID of the run.\n",
        "    :param sleep_interval: Time in seconds to wait between checks.\n",
        "    \"\"\"\n",
        "    while True:\n",
        "        try:\n",
        "            run = client.beta.threads.runs.retrieve(thread_id=thread_id, run_id=run_id)\n",
        "            if run.completed_at:\n",
        "                elapsed_time = run.completed_at - run.created_at\n",
        "                formatted_elapsed_time = time.strftime(\"%H:%M:%S\", time.gmtime(elapsed_time))\n",
        "                logging.info(f\"Run completed in {formatted_elapsed_time}\")\n",
        "                break\n",
        "        except Exception as e:\n",
        "            logging.error(f\"An error occurred while retrieving the run: {e}\")\n",
        "            break\n",
        "        logging.info(\"Waiting for run to complete...\")\n",
        "        time.sleep(sleep_interval)"
      ],
      "metadata": {
        "id": "vmn1ulFdnbeU"
      },
      "execution_count": null,
      "outputs": []
    },
    {
      "cell_type": "code",
      "source": [
        "wait_for_run_completion(client, thread.id, run.id)\n"
      ],
      "metadata": {
        "id": "wmIvrhxznbEO"
      },
      "execution_count": null,
      "outputs": []
    },
    {
      "cell_type": "code",
      "source": [
        "messages = client.beta.threads.messages.list(\n",
        "    thread_id=thread.id\n",
        "    )"
      ],
      "metadata": {
        "id": "R2ELHFMf-TSM"
      },
      "execution_count": null,
      "outputs": []
    },
    {
      "cell_type": "markdown",
      "source": [
        "## Let's \"DECODE\" these messages!\n",
        "\n",
        "### YOU TRY\n",
        "\n",
        "How can we decode the messages presented here to be more clear on what's happening?\n",
        "\n",
        "Let's start off by looping through messages.data, and access each \"message\" to begin experimenting!\n",
        "\n"
      ],
      "metadata": {
        "id": "_K0f3_Pq-kOQ"
      }
    },
    {
      "cell_type": "code",
      "source": [
        "### YOUR SOLUTION\n",
        "\n"
      ],
      "metadata": {
        "id": "DNqqlxQP-eSj"
      },
      "execution_count": 192,
      "outputs": []
    },
    {
      "cell_type": "markdown",
      "source": [
        "Ok looks like we have a couple of properties here:\n",
        "\n",
        "1) Thread ID\n",
        "\n",
        "2) Assistant ID\n",
        "\n",
        "3) Content\n",
        "\n",
        "4) Content types (images or text)\n",
        "\n",
        "One of the strange things about Open AI Assistants (in current configuration) is that the LAST message in the index is the first message in the responses, so we'll have to work backwards!"
      ],
      "metadata": {
        "id": "V0rbQcyJAtvk"
      }
    },
    {
      "cell_type": "code",
      "source": [
        "### YOUR CODE HERE"
      ],
      "metadata": {
        "id": "_TV6JTRoAtLx"
      },
      "execution_count": null,
      "outputs": []
    },
    {
      "cell_type": "code",
      "source": [
        "message = \"Let's proceed with more of those visualizations, with an emphasis on market research.\"\n",
        "\n",
        "message = client.beta.threads.messages.create(\n",
        "    thread_id=thread.id,\n",
        "    role=\"user\",\n",
        "    content=message\n",
        ")\n",
        "run = client.beta.threads.runs.create(\n",
        "    thread_id=thread.id,\n",
        "    assistant_id=assistant.id,\n",
        ")\n",
        "wait_for_run_completion(client, thread.id, run.id)"
      ],
      "metadata": {
        "id": "E-jhKhTBtrjS"
      },
      "execution_count": null,
      "outputs": []
    },
    {
      "cell_type": "code",
      "source": [
        "for msg in messages.data[::-1]:\n",
        "    try:\n",
        "        print(msg.content[0].text.value)\n",
        "    except:\n",
        "        print(\"Could not load text\")"
      ],
      "metadata": {
        "colab": {
          "base_uri": "https://localhost:8080/"
        },
        "id": "o5d6_fZkuH4k",
        "outputId": "e8ccc945-e9cc-4413-8377-1acd314dd824"
      },
      "execution_count": null,
      "outputs": [
        {
          "output_type": "stream",
          "name": "stdout",
          "text": [
            "Create 3 data insights based on the trends in this file.\n",
            "In order to provide you with data insights, I first need to examine the contents of the file you uploaded. I will begin by checking the file type and previewing its content. Then, I will conduct an analysis to identify trends and generate insights based on the data.\n",
            "\n",
            "Let's start by determining the file type and previewing the data.\n",
            "It seems that the uploaded file doesn't have an extension. Without knowing the file type, I will attempt to open it as a text file to preview its content, which could reveal more about the nature of the data. If it appears to be structured as a spreadsheet or CSV, I will then load it accordingly for analysis. Let's take a look at the first few lines of the file.\n",
            "It appears that the operation has timed out, which could mean that the file is quite large or not in a plain text format. To proceed, I will try to read the file using different methods that are suitable for binary or specific data formats such as CSV, Excel, or JSON.\n",
            "\n",
            "First, I will attempt to read the file using pandas, which can handle various data formats quite well. We'll start by assuming it might be a CSV file. If that approach doesn't work, I'll proceed with other formats.\n",
            "The file has been successfully read as a CSV file. It appears to be a dataset that includes details about clinical trials, with fields like `NCT` (which could be the trial number), `Sponsor`, `Title`, `Summary`, `Start_Year`, `Start_Month`, `Phase`, `Enrollment`, `Status`, and `Condition`. Now that we have access to the data, I can proceed to create three data insights based on the trends observed in the file.\n",
            "\n",
            "Let's start by analyzing the following potential insights:\n",
            "\n",
            "1. Trends over time: Analyzing the number of clinical trials started each year.\n",
            "2. Trial phase distribution: Reviewing the distribution of clinical trial phases to understand which phases are most common.\n",
            "3. Status of trials: Investigating the status of clinical trials to see how many are completed, withdrawn, or have an unknown status.\n",
            "\n",
            "To begin, I will first analyze the trend of clinical trials over time by counting the number of trials that started each year.\n",
            "Could not load text\n",
            "Could not load text\n",
            "Could not load text\n",
            "Let's proceed with more of those visualizations, with an emphasis on market research.\n",
            "For a market research-oriented analysis of the clinical trials dataset, we can focus on insights that would benefit stakeholders interested in understanding trends, competition, and opportunities within the healthcare and pharmaceutical industries. Here are some potential areas of interest for market research:\n",
            "\n",
            "1. Sponsor activity: Examining which sponsors are most active in conducting clinical trials.\n",
            "2. Condition focus: Identifying the most researched medical conditions or diseases.\n",
            "3. Phase and status interaction: Understanding the relationship between trial phases and their status to determine which phases see more trials reaching completion or being withdrawn.\n",
            "\n",
            "Let's dive into the first visualization, focusing on the sponsors' activity in the clinical trial space. I will present the top sponsors by the number of trials conducted, which can provide insights into which entities are most invested in research and development.\n",
            "Could not load text\n",
            "Could not load text\n",
            "Could not load text\n"
          ]
        }
      ]
    },
    {
      "cell_type": "markdown",
      "source": [
        "# Handling IMAGES\n",
        "At this point, we probably want to have some more robust code to be able to process images!"
      ],
      "metadata": {
        "id": "PggdB1Mayk9O"
      }
    },
    {
      "cell_type": "code",
      "source": [
        "def get_img(image_file_id,name):\n",
        "    #image_file_id = \"file-sBzB6EDaFbestf2eShKZSme2\"\n",
        "    image_file = openai.files.content(image_file_id)\n",
        "    with open(f\"{name}.png\", \"wb\") as f:\n",
        "        f.write(image_file.content)"
      ],
      "metadata": {
        "id": "wWwNLzitx1Jt"
      },
      "execution_count": null,
      "outputs": []
    },
    {
      "cell_type": "code",
      "source": [
        "def get_content(messages):\n",
        "    for i, msg in enumerate(messages.data[::-1]):\n",
        "        if msg.content[0].type == \"image_file\":\n",
        "            img_id = msg.content[0].image_file.file_id\n",
        "            img_name = f\"img_0{i}\"\n",
        "            get_img(img_id,img_name)\n",
        "            print(f\"Saved an Image called: {img_name}\")\n",
        "\n",
        "        else:\n",
        "            print(msg.content[0].text.value)\n",
        "\n"
      ],
      "metadata": {
        "id": "Eath54Svwf4e"
      },
      "execution_count": null,
      "outputs": []
    },
    {
      "cell_type": "code",
      "source": [
        "def get_new_message(prompt,thread,assistant):\n",
        "    message = prompt\n",
        "\n",
        "    message = client.beta.threads.messages.create(\n",
        "        thread_id=thread.id,\n",
        "        role=\"user\",\n",
        "        content=message\n",
        "    )\n",
        "    run = client.beta.threads.runs.create(\n",
        "        thread_id=thread.id,\n",
        "        assistant_id=assistant.id,\n",
        "    )\n",
        "    wait_for_run_completion(client, thread.id, run.id)\n"
      ],
      "metadata": {
        "id": "el6VImtgv_9D"
      },
      "execution_count": null,
      "outputs": []
    },
    {
      "cell_type": "code",
      "source": [
        "next_prompt = \"\"\"Great, now please Suggest and create additional visualizations\n",
        "that will help us understand the competitive pharmaceutical landscape\n",
        "in clinical trials across various diseases and their sponsors.\n",
        "Make insightful and creative visualizations, please!\n",
        "\"\"\"\n",
        "get_new_message(next_prompt,thread,assistant)"
      ],
      "metadata": {
        "id": "4nz5ai4EwGEO"
      },
      "execution_count": null,
      "outputs": []
    },
    {
      "cell_type": "code",
      "source": [
        "messages = client.beta.threads.messages.list(\n",
        "    thread_id=thread.id\n",
        "    )\n",
        "get_content(messages)"
      ],
      "metadata": {
        "colab": {
          "base_uri": "https://localhost:8080/"
        },
        "id": "EaF4H3xGzj-d",
        "outputId": "b3664240-7c7f-4738-b08c-bdf2d92e5176"
      },
      "execution_count": null,
      "outputs": [
        {
          "output_type": "stream",
          "name": "stdout",
          "text": [
            "Saved an Image called: img_00\n",
            "Saved an Image called: img_01\n",
            "Saved an Image called: img_02\n",
            "Saved an Image called: img_03\n",
            "To gain insights into the competitive pharmaceutical landscape in clinical trials, we should look at different aspects of the data. Here are a few additional visualizations that could provide valuable insights:\n",
            "\n",
            "1. **Sponsor Activity by Phase**: Visualize the number of trials by phase for the top sponsors to understand where they focus their research efforts.\n",
            "   \n",
            "2. **Sponsor vs. Conditions Heatmap**: Construct a heatmap showing the number of trials each top sponsor has conducted for each top condition. This can illustrate the specialization of different sponsors.\n",
            "\n",
            "3. **Time Series of Trial Start Dates**: A time series visualization showing the cumulative number of trials started over time, broken down by sponsor. This can show market activity trends and the rise and fall of different sponsors in the market.\n",
            "\n",
            "4. **Sponsor Clinical Trial Outcomes**: Show the outcomes (Status of trial, e.g., completed, withdrawn) of the top sponsors' clinical trials to give an idea of their success rates.\n",
            "\n",
            "Let's create these visualizations to provide a more in-depth view of the competitive landscape. We'll start with the \"Sponsor Activity by Phase\" visualization. For brevity and to keep the visualization insightful, we'll look into only the top sponsors overall based on the number of trials sponsored.\n",
            "Great, now please Suggest and create additional visualizations that will help us understand the competitive pharmaceutical landscape in clinical trials across various diseases and their sponsors. Make insightful and creative visualizations, please!\n",
            "Saved an Image called: img_06\n",
            "We have grouped clinical trials by condition and sponsor and counted the number of trials for each pairing. The data is sorted by condition and the count of trials, with a descending order for trial count to show the sponsors with the most significant number of trials per condition at the top.\n",
            "\n",
            "For visualization, it could be insightful to create a horizontal bar chart for each top condition, showing the number of trials per sponsor. This can make it clear which sponsors are most active in research for each disease, which is invaluable for market research analysis.\n",
            "\n",
            "Since there are several sponsors, and to ensure the visualization remains clean and informative, I'll display the top sponsors for each condition (based on the number of trials). Let's create these visualizations.\n",
            "The top 10 conditions with the most clinical trials in the dataset are:\n",
            "\n",
            "1. Diabetes Mellitus, Type 2\n",
            "2. Breast Neoplasms\n",
            "3. Chronic Obstructive Pulmonary Disease (COPD)\n",
            "4. Hypertension\n",
            "5. Asthma\n",
            "6. Rheumatoid Arthritis\n",
            "7. Human Influenza\n",
            "8. Schizophrenia\n",
            "9. Diabetes Mellitus\n",
            "10. Alzheimer's Disease\n",
            "\n",
            "Now let's find out which sponsors are associated with these top conditions and then visualize the data accordingly. We will create visualizations showing each sponsor's level of involvement with the trials for each of the top conditions.\n",
            "Certainly! To proceed with this, we'll first identify the most common conditions (diseases) represented in the clinical trials and then examine which sponsors are most frequently associated with these conditions.\n",
            "\n",
            "Let me start by identifying the top diseases by the number of trials, and then we can select a threshold for \"top diseases\" based on this distribution. We'll then filter the dataset for these diseases and visualize the association with their sponsors. Let's determine the most common conditions first.\n",
            "Great I would like you to now filter specifically different top diseases in the clinical trials along with their sponsor.\n",
            "Saved an Image called: img_011\n",
            "Saved an Image called: img_012\n",
            "Saved an Image called: img_013\n",
            "Great! To emphasize market research in these visualizations, I'll tailor each one to provide insights that can be valuable for understanding market dynamics. Specifically, I will:\n",
            "\n",
            "1. Plot the trend of the number of trials over the years, as this can indicate the level of investment and interest in clinical research, reflecting market growth or emerging trends in certain medical areas.\n",
            "   \n",
            "2. Show the distribution of enrollments amongst different phases to give an idea of the scale of investment and the extent of clinical testing at each stage, which can be an indicator of market maturity and risk.\n",
            "   \n",
            "3. Visualize the status of trials as a pie chart to represent the success rate and reliability, which could impact market confidence and future investment decisions.\n",
            "\n",
            "Let's start with the first visualization: the number of trials over the years.\n",
            "Let's proceed with those visualizations, with an emphasis on market research.\n",
            "The data is successfully loaded into a DataFrame, and from the preview, it looks like we have a dataset containing information about clinical trials such as the sponsor, title, phase, year and month of starting, enrollment numbers, status, and the condition being studied.\n",
            "\n",
            "Based on the data trends, we may consider visualizations such as:\n",
            "\n",
            "1. The number of trials over the years, to see if the number of trials has increased.\n",
            "2. The enrollment numbers across different phases to understand the participant size in different study stages.\n",
            "3. The distribution of trial status to see the outcomes (completed, withdrawn, unknown status, etc.).\n",
            "\n",
            "Would you like to proceed with these visualizations, or do you have other preferences?\n",
            "The file seems to be a plain text CSV file as it contains data separated by commas with a header line that describes the fields. The header indicates that the file contains the following columns: index, NCT, Sponsor, Title, Summary, Start_Year, Start_Month, Phase, Enrollment, Status, and Condition.\n",
            "\n",
            "With this information, I'll proceed to load the CSV data into a DataFrame and then we can decide on which visualizations would be most suitable based on the data trends. Let's load the data now.\n",
            "Apologies, but I haven't shared the read file contents. I will now print out the content of the few lines that have been read so we can discern the structure of the file.\n",
            "It appears that the uploaded file does not have an extension, which makes it difficult to determine the file type directly. I will now attempt to open the file using different methods to identify its format.\n",
            "\n",
            "First, I'll try reading it as a plain text file to see if we can discern the structure. If it looks like CSV or another delimited text format, we can proceed with parsing it accordingly. Let's start with this approach.\n"
          ]
        }
      ]
    },
    {
      "cell_type": "markdown",
      "source": [
        "## Reflect\n",
        "\n",
        "#### Where can you take this data analysis process from here?\n",
        "\n",
        "#### How can we incorporate this in a more streamlined way to help support plug and play applications?\n",
        "\n",
        "#### What are some of the exciting use cases with data you are thinking about?"
      ],
      "metadata": {
        "id": "oRDtwdVU1p0G"
      }
    },
    {
      "cell_type": "markdown",
      "source": [
        "## YOU TRY\n",
        "Let's create wrapper functions for the following:\n",
        "1) Creating files\n",
        "2) Creating an Assistant\n",
        "3) Creating and Retrieving Threads\n",
        "4) Generating new Content"
      ],
      "metadata": {
        "id": "1BGG5DT-Ha1F"
      }
    },
    {
      "cell_type": "code",
      "source": [
        "# def create_file(filepath):\n",
        "# ..\n",
        "#     return file\n",
        "# annual_report_file = create_file(\"2022 Amgen Shareholder Letter and 10K.pdf\")\n"
      ],
      "metadata": {
        "id": "T5VDR6-o2hhP"
      },
      "execution_count": null,
      "outputs": []
    },
    {
      "cell_type": "code",
      "source": [
        "instructions = \"\"\n",
        "INSTRUCTIONS = f\"\"\"\n",
        "You are a business leader and account executive who is able to quickly\n",
        "- read reports and boring financial numbers in order to generate insights\n",
        "- Understand how to digest a huge amount of information into small bite-sized quips (like quotes\n",
        "- Excellent in your memory ability to recall direct facts from a file\n",
        "Help me understand how I can share some of the key highlights in our annual reports\n",
        "in a short, executive summary powerpoint.\n",
        "\"\"\"\n",
        "# def get_assistant(file, instructions = INSTRUCTIONS):\n",
        "\n",
        "#     return assistant\n",
        "# assistant1 = get_assistant(annual_report_file, INSTRUCTIONS)\n",
        "\n"
      ],
      "metadata": {
        "id": "WvPHA3im3RFn"
      },
      "execution_count": null,
      "outputs": []
    },
    {
      "cell_type": "code",
      "source": [
        "# def get_thread(file,user_prompt):\n",
        "\n",
        "#     return thread\n",
        "\n",
        "prompt1 = \"\"\"\n",
        "You will help me prepare a keynote speech and power point presentation sharing the results of our (attached) most recent annual report!\n",
        "\"\"\"\n",
        "#thread1 = get_thread(annual_report_file,prompt1)\n"
      ],
      "metadata": {
        "id": "PorC5ZSu4gVk"
      },
      "execution_count": null,
      "outputs": []
    },
    {
      "cell_type": "code",
      "source": [
        "print(assistant1.id)\n",
        "print(thread1.id)"
      ],
      "metadata": {
        "colab": {
          "base_uri": "https://localhost:8080/"
        },
        "id": "C-XI28fJk3Hh",
        "outputId": "5eab7e97-c830-4954-e50a-5e37f748ee20"
      },
      "execution_count": null,
      "outputs": [
        {
          "output_type": "stream",
          "name": "stdout",
          "text": [
            "asst_uA0rIv78iNZLs9trUe5SAM0H\n",
            "thread_xUvQ9yHnWHQHHK1eDUULpaHC\n"
          ]
        }
      ]
    },
    {
      "cell_type": "code",
      "source": [
        "# def get_run(thread,assistant):\n",
        "\n",
        "#     return run\n",
        "#run1 = get_run(thread1,assistant1)"
      ],
      "metadata": {
        "id": "kCRU9w9Z5S7S"
      },
      "execution_count": null,
      "outputs": []
    },
    {
      "cell_type": "code",
      "source": [
        "## GET CONTENT"
      ],
      "metadata": {
        "colab": {
          "base_uri": "https://localhost:8080/"
        },
        "id": "f--rAOHW6id7",
        "outputId": "91f0f8dc-c59a-4c78-bea8-bf81ef3099b5"
      },
      "execution_count": null,
      "outputs": [
        {
          "output_type": "stream",
          "name": "stdout",
          "text": [
            "\n",
            "You will help me prepare a keynote speech and power point presentation sharing the results of our (attached) most recent annual report!\n",
            "\n",
            "Of course, Sir. I would be glad to help you prepare your keynote speech and a PowerPoint presentation. However, before we get started, I will need to examine the contents of the annual report you've provided to understand what information it includes.\n",
            "\n",
            "Let's start by identifying the type of file you uploaded and then I'll take a look inside to summarize the main points that can be included in your speech and presentation. Please give me a moment to check the file.\n",
            "The file you have uploaded is approximately 12.7 MB in size, which suggests it could be a document with substantial content. To proceed further, I'll attempt to detect the file format and peek into the contents to extract relevant information for your keynote speech and PowerPoint presentation. Let me do that for you, Sir.\n",
            "It seems there was an issue with identifying the file type using the library I attempted to use. I apologize for the inconvenience, Sir. Let me try another method to determine the file type, and then we can proceed with reviewing the contents for your presentation.\n",
            "The file appears to be a PDF document. With this information, I will proceed to extract its content so that we can identify the key points for your keynote speech and PowerPoint presentation. Please give me a moment to perform the content extraction.\n",
            "Based on the extracted text from the first pages of your annual report, here's an initial draft outline for your keynote speech and PowerPoint presentation:\n",
            "\n",
            "# Keynote Speech Draft Outline:\n",
            "\n",
            "1. **Introduction** \n",
            "   - Greetings and acknowledgment of attendees\n",
            "   - Brief overview of the purpose of the keynote\n",
            "\n",
            "2. **Company Performance Overview**\n",
            "   - Mention Amgen's effective performance in 2022\n",
            "   - Highlight reaching approximately 10 million patients with approved medicines\n",
            "\n",
            "3. **Financial Highlights**\n",
            "   - Record total revenues for 2022 at $26.3 billion (up 1% from the prior year)\n",
            "   - Record non-GAAP earnings per share of $17.69 (up 27% from the prior year)\n",
            "   - Free cash flow of $8.8 billion\n",
            "\n",
            "4. **Market Performance**\n",
            "   - Total shareholder return in 2022 of 20%, outperforming the S&P 500 and the NASDAQ Biotechnology indices\n",
            "\n",
            "5. **Return to Shareholders**\n",
            "   - Returned approximately $10.5 billion to shareholders through repurchases and dividends\n",
            "   - Dividends increased for the eleventh consecutive year, up 10% per share over 2021\n",
            "\n",
            "6. **Product Portfolio and Sales**\n",
            "   - 27 approved medicines in the portfolio\n",
            "   - 16 medicines achieving record sales in 2022\n",
            "   - 9 medicines generating sales exceeding $1 billion\n",
            "\n",
            "7. **Sales Growth and Challenges**\n",
            "   - Volume growth of 9% in 2022, with a 5% decline in net selling price\n",
            "   - Mention specific medicines that performed well, such as Repatha®, EVENITY®, Prolia®, Nplate®, BLINCYTO®, and KYPROLIS®\n",
            "   - Introduce new innovations like LUMAKRAS®/LUMYKRAS™ and TEZSPIRE®\n",
            "\n",
            "8. **Conclusion**\n",
            "   - Summarize the key achievements and outlook for future growth\n",
            "   - Express gratitude towards the teams and stakeholders involved\n",
            "\n",
            "# PowerPoint Presentation Draft Outline:\n",
            "\n",
            "Slide 1: Title Slide\n",
            "- Company logo\n",
            "- Title: \"2022 Annual Report Keynote\"\n",
            "\n",
            "Slide 2: Introduction\n",
            "- Keynote purpose and agenda\n",
            "\n",
            "Slide 3: Company Performance Overview\n",
            "- Graphical representation of patients reached\n",
            "\n",
            "Slide 4: Financial Highlights\n",
            "- Bar graphs or pie charts illustrating revenue, earnings per share, and free cash flow\n",
            "\n",
            "Slide 5: Market Performance\n",
            "- Line graph comparing Amgen's shareholder return with market indices\n",
            "\n",
            "Slide 6: Return to Shareholders\n",
            "- Timeline showing dividend growth over 11 years\n",
            "- Total value returned in 2022\n",
            "\n",
            "Slide 7: Product Portfolio and Sales\n",
            "- Pie chart highlighting top-selling medicines\n",
            "\n",
            "Slide 8: Sales Growth and Challenges\n",
            "- Line graph showing volume growth and price challenges\n",
            "- Images of highlighted medicines\n",
            "\n",
            "Slide 9: Conclusion\n",
            "- Summary points of achievements\n",
            "- Thank you slide with an invitation for questions or discussions\n",
            "\n",
            "This is a preliminary outline based on the initial content from your annual report. Would you like me to delve into the entire document for a more comprehensive analysis, or should we refine the speech and presentation drafts based on this overview?\n"
          ]
        }
      ]
    },
    {
      "cell_type": "code",
      "source": [
        "next_prompt = \"\"\"Great, now please do a more in-depth analysis and help me\n",
        "draft an keynote speech that will cover the punchy headlines of the annual report!\n",
        "\"\"\"\n",
        "# GENERATE A NEW MESSAGE BELOW - make sure you use the right thread!"
      ],
      "metadata": {
        "id": "zb8AzDlQIPTl"
      },
      "execution_count": null,
      "outputs": []
    },
    {
      "cell_type": "code",
      "source": [
        "# Retrieve content from the messages"
      ],
      "metadata": {
        "id": "k72IsbMO8-qF"
      },
      "execution_count": 193,
      "outputs": []
    },
    {
      "cell_type": "markdown",
      "source": [
        "## You've Done it!\n",
        "\n",
        "There you go, you have now built a comprehensive AI ASSISTANT that:\n",
        "- Uses OpenAI API calls (with the latest updates) to query DATA\n",
        "\n",
        "- Understands and reads natural language data, to provide competitive analysis results\n",
        "\n",
        "- Helps us even create graphs and visualizations for our data!"
      ],
      "metadata": {
        "id": "Z2HdshCMfxpo"
      }
    }
  ]
}